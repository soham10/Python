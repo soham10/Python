{
 "cells": [
  {
   "cell_type": "markdown",
   "metadata": {},
   "source": [
    "Q1: \n",
    "\n",
    "Write a Python function that takes an array of integers as an argument and\n",
    "returns a new array containing only the odd numbers in the original array.\n"
   ]
  },
  {
   "cell_type": "code",
   "execution_count": null,
   "metadata": {},
   "outputs": [],
   "source": [
    "# Function is odd_arr(x),which takes an array of integer as argument(x)\n",
    "import numpy as np\n",
    "\n",
    "def odd_arr(x): \n",
    "    x1=[]\n",
    "    for i in x:\n",
    "        if i%2==1:\n",
    "            x1.append(i)\n",
    "    y=np.array(x1)\n",
    "    return y\n",
    "\n",
    "#Example\n",
    "x=np.array([78,63,95,45,88,48,62,31])\n",
    "odd_arr(x)\n"
   ]
  },
  {
   "cell_type": "markdown",
   "metadata": {},
   "source": [
    "Q2:\n",
    "\n",
    " Create a class called Dog with attributes name and breed. Add a method called bark that prints a message with the dog's name and a barking sound.\n"
   ]
  },
  {
   "cell_type": "code",
   "execution_count": null,
   "metadata": {},
   "outputs": [],
   "source": [
    "# Creating a class named Dog\n",
    "class Dog:\n",
    "    def __init__(self,name,breed):\n",
    "        self.name=name\n",
    "        self.breed=breed\n",
    "\n",
    "# defining the bark function\n",
    "def bark(Dog):\n",
    "    bark_sound={'Bulldog':'Growl','German Shepherd':'Whimpers','Labrador':'Grunt','Husky':'Howl'}\n",
    "    print('Hello friend!\\nYour dog name is',Dog.name,'and its barking sound is',bark_sound[Dog.breed])\n",
    "\n",
    "\n",
    "# Example\n",
    "D1=Dog('Spike','Bulldog')\n",
    "bark(D1)"
   ]
  },
  {
   "cell_type": "markdown",
   "metadata": {},
   "source": [
    "Q3. \n",
    "\n",
    "Write a Python program that creates a numpy array of 100 random integers\n",
    "between 0 and 100, and prints any 2 measures of central tendency and 2 measures\n",
    "of spread of the array.\n"
   ]
  },
  {
   "cell_type": "code",
   "execution_count": null,
   "metadata": {},
   "outputs": [],
   "source": [
    "import numpy as np\n",
    "# Creating a random array\n",
    "arr=np.random.randint(100,size=100)\n",
    "print(arr)\n",
    "\n",
    "# Measures of central tendency\n",
    "print('\\nThe mean of array is',np.sum(arr)/100)\n",
    "print('The median of array is',np.median(arr))\n",
    "\n",
    "# Measures of spread\n",
    "print('\\nThe standard deviation of array is',np.std(arr))\n",
    "print('The range of array is',np.ptp(arr))"
   ]
  },
  {
   "cell_type": "markdown",
   "metadata": {},
   "source": [
    "Q1: Mandatory\n",
    "\n",
    "Create a class which defines an __init__ function that initializes the class\n",
    "attribute array. Define another function get_array which takes inputs for the\n",
    "length of the array and inputs all the elements, and returns its corresponding sorted\n",
    "Array.\n"
   ]
  },
  {
   "cell_type": "code",
   "execution_count": null,
   "metadata": {},
   "outputs": [],
   "source": [
    "import numpy as np\n",
    "\n",
    "# Creating a Class-\n",
    "class array:\n",
    "    def __init__(self,length,elements):\n",
    "        self.length=length\n",
    "        self.elements=elements\n",
    "\n",
    "\n",
    "# Function get_array    \n",
    "def get_array(array):\n",
    "    return np.sort(np.array(array.elements))\n",
    "\n",
    "# Enter length of array\n",
    "l=int(input('Enter length of array '))\n",
    "\n",
    "#Enter respective elements\n",
    "try:\n",
    "    e=[]\n",
    "    for i in range(l):\n",
    "        e.append(int(input(f'Enter element {i+1} [All elements should be of same type]')))\n",
    "except ValueError:\n",
    "    e=[]\n",
    "    for i in range(l):\n",
    "        e.append(input(f'Enter element {i+1} [All elements should be of same type]'))\n",
    "\n",
    "arr=array(l,e)\n",
    "print(get_array(arr))\n",
    "\n"
   ]
  },
  {
   "cell_type": "markdown",
   "metadata": {},
   "source": [
    "Q2: Mandatory\n",
    "\n",
    "Write a single code for all parts of this question.\n",
    "\n",
    "A. Create a 2D array of size 4*4 using list and perform the following\n",
    "operations:\n",
    "1. extract the diagonal elements from the array\n",
    "2. Find the trace of the Matrix\n",
    "3. Find the max and min element of each row in that matrix\n",
    "(Hint: convert that 2D list to Numpy Array to make the problem simple)\n",
    "\n",
    "B. Create another 2D numpy array with shape (4, 5) where each element of the\n",
    "array is a random float between 0 and 1, inclusive, using numpy's uniform\n",
    "distribution function. Print the resulting numpy array.\n",
    "\n",
    "C. Multiply the numpy arrays created in Part A and Part B element-wise, and\n",
    "print the resulting numpy array.\n",
    "\n"
   ]
  },
  {
   "cell_type": "code",
   "execution_count": null,
   "metadata": {},
   "outputs": [],
   "source": [
    "# Creating a 2D List\n",
    "rows,columns=(4,4)\n",
    "list=[[2,4,2,3],[9,3,1,2],[4,3,3,1],[0,9,7,1]]\n",
    "# Creating 2D array A\n",
    "import numpy as np\n",
    "arr1=np.array(list)\n",
    "print('Array A:')\n",
    "print(arr1)\n",
    "print('\\nDiagonal elements are =',np.diag(arr1))   # 1. Extracting diagonal elements\n",
    "print('Trace of matrix =',np.sum(np.diag(arr1))) # 2. Finding trace of matrix\n",
    "print('Max element in each row respectively =',np.max(arr1,axis=1)) # Finding Maximum element \n",
    "print('Min element in each row respectively =',np.min(arr1,axis=1)) # Finding Minimum element\n",
    "\n",
    "# array B\n",
    "arr2=np.random.uniform(size=(4,5))\n",
    "print('\\nArray B:')\n",
    "print(arr2)\n",
    "\n",
    "# Part C\n",
    "print('\\nMultiplicative Array:')\n",
    "print(np.dot(arr1,arr2))"
   ]
  }
 ],
 "metadata": {
  "kernelspec": {
   "display_name": "base",
   "language": "python",
   "name": "python3"
  },
  "language_info": {
   "codemirror_mode": {
    "name": "ipython",
    "version": 3
   },
   "file_extension": ".py",
   "mimetype": "text/x-python",
   "name": "python",
   "nbconvert_exporter": "python",
   "pygments_lexer": "ipython3",
   "version": "3.11.5"
  }
 },
 "nbformat": 4,
 "nbformat_minor": 2
}
